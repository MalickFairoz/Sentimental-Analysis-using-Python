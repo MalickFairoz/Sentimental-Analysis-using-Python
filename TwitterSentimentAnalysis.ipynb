{
 "cells": [
  {
   "cell_type": "code",
   "execution_count": 4,
   "metadata": {},
   "outputs": [
    {
     "name": "stdout",
     "output_type": "stream",
     "text": [
      "Enter keyword/HashTag to search about: Bitcoins\n",
      "Enter how many tweets to analyze: 300\n"
     ]
    },
    {
     "data": {
      "image/png": "[encoded data removed]",
      "text/plain": [
       "<Figure size 432x288 with 1 Axes>"
      ]
     },
     "metadata": {},
     "output_type": "display_data"
    }
   ],
   "source": [
    "#Importing Library for connecting Twitter, identify sentiments and ploting graph\n",
    "from textblob import TextBlob\n",
    "import sys, tweepy\n",
    "import matplotlib.pyplot as plt\n",
    "\n",
    "#Method to generate percentage value\n",
    "def percentage(part, whole):\n",
    "    return 100 * float(part)/float(whole)\n",
    "\n",
    "#Twitter api keys for connection hidden using environmental variables\n",
    "import os\n",
    "consumerKey = os.environ.get('TwitterConsumerKey')\n",
    "consumerSecret = os.environ.get('TwitterConsumerSecret')\n",
    "accessToken = os.environ.get('TwitterAccessToken')\n",
    "accessTokenSecret = os.environ.get('TwitterAccessTokenSecret')\n",
    "\n",
    "#Connecting to Twitter\n",
    "auth = tweepy.OAuthHandler(consumer_key=consumerKey, consumer_secret=consumerSecret)\n",
    "auth.set_access_token(accessToken,accessTokenSecret)\n",
    "api = tweepy.API(auth)\n",
    "\n",
    "#Getting input from the user\n",
    "searchTerm = input(\"Enter keyword/HashTag to search about: \")\n",
    "noOfSearchTerms = int(input(\"Enter how many tweets to analyze: \"))\n",
    "\n",
    "#Collecting tweets based on input\n",
    "tweets = tweepy.Cursor(api.search, q=searchTerm ).items(noOfSearchTerms)\n",
    "\n",
    "#Variable initialzing\n",
    "positive = 0\n",
    "negative = 0\n",
    "neutral = 0 \n",
    "polarity = 0\n",
    "\n",
    "\n",
    "#Segregating sentiments on three category\n",
    "for tweet in tweets:\n",
    "    #print(tweet.text)\n",
    "    analysis = TextBlob(tweet.text)\n",
    "    polarity += analysis.sentiment.polarity\n",
    "    if (analysis.sentiment.polarity == 0):\n",
    "        neutral += 1\n",
    "    elif (analysis.sentiment.polarity > 0.00):\n",
    "        positive += 1\n",
    "    elif (analysis.sentiment.polarity < 0.00):\n",
    "        negative += 1\n",
    "\n",
    "#Converting to percentage\n",
    "positive = percentage(positive, noOfSearchTerms)\n",
    "negative = percentage(negative, noOfSearchTerms)\n",
    "neutral = percentage(neutral, noOfSearchTerms)\n",
    "\n",
    "\n",
    "#Formating with two decimals\n",
    "positive = format(positive, '.2f')\n",
    "negative = format(negative, '.2f')\n",
    "neutral = format(neutral, '.2f')\n",
    "\n",
    "#print(\"How people are reacting on \" + searchTerm + \" by analyzing \" + str(noOfSearchTerms) + \" Tweets.\")\n",
    "# if (polarity == 0):\n",
    "#     print(\"Neutral\")\n",
    "# elif (polarity > 0.00):\n",
    "#     print(\"Positive\")\n",
    "# elif (polarity < 0.00):\n",
    "#     print(\"Negative\")\n",
    "#print(polarity)\n",
    "\n",
    "#Providing arguments for the chart\n",
    "labels = ['Positive [' + str(positive) + '%]', 'Negative [' + str(negative) + '%]', 'Neutral [' + str(neutral) + '%]']\n",
    "sizes = [positive, negative, neutral]\n",
    "colors = ['green', 'red', 'yellow']\n",
    "patches, text = plt.pie(sizes, colors=colors, startangle=90)\n",
    "plt.legend(patches, labels, loc=\"best\")\n",
    "plt.title('How people are reacting on ' + searchTerm + ' by analyzing ' + str(noOfSearchTerms) + ' Tweets.')\n",
    "plt.axis('equal')\n",
    "plt.tight_layout()\n",
    "\n",
    "#Displaying the results in chart\n",
    "plt.show()"
   ]
  },
  {
   "cell_type": "code",
   "execution_count": null,
   "metadata": {},
   "outputs": [],
   "source": []
  }
 ],
 "metadata": {
  "kernelspec": {
   "display_name": "Python 3",
   "language": "python",
   "name": "python3"
  },
  "language_info": {
   "codemirror_mode": {
    "name": "ipython",
    "version": 3
   },
   "file_extension": ".py",
   "mimetype": "text/x-python",
   "name": "python",
   "nbconvert_exporter": "python",
   "pygments_lexer": "ipython3",
   "version": "3.6.5"
  }
 },
 "nbformat": 4,
 "nbformat_minor": 2
}
